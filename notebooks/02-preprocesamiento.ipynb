{
 "cells": [
  {
   "cell_type": "code",
   "execution_count": null,
   "id": "ac832bfc",
   "metadata": {},
   "outputs": [],
   "source": [
    "import pandas as pd"
   ]
  },
  {
   "cell_type": "code",
   "execution_count": null,
   "id": "d54da63e",
   "metadata": {},
   "outputs": [],
   "source": [
    "# cargamos el conjunto de datos\n",
    "df = pd.read_excel('../data/retail.xlsx')\n",
    "df.head()"
   ]
  },
  {
   "cell_type": "code",
   "execution_count": null,
   "id": "030a25c2",
   "metadata": {},
   "outputs": [],
   "source": [
    "# hay filas duplicadas, por lo que las elimino\n",
    "df.drop_duplicates(inplace = True)\n",
    "\n",
    "# hay nulos en la columna de \"Description\" lo cual no nos interesa, los eliminamos\n",
    "df.dropna(subset = \"Description\", inplace = True)"
   ]
  },
  {
   "cell_type": "code",
   "execution_count": null,
   "id": "121f9b6b",
   "metadata": {},
   "outputs": [],
   "source": [
    "# Remove null values\n",
    "df.dropna(subset=['Invoice', 'Description'], inplace=True)\n",
    "# Group products by invoice\n",
    "transactions = df.groupby('Invoice')['Description'].apply(list).values.tolist()\n",
    "# Preview the transactional data\n",
    "transactions[:1]"
   ]
  },
  {
   "cell_type": "code",
   "execution_count": null,
   "id": "9fc46f9a",
   "metadata": {},
   "outputs": [],
   "source": [
    "# Transaction encoding\n",
    "te = TransactionEncoder()\n",
    "\n",
    "# Convert all items in transactions to strings before encoding\n",
    "transactions = [[str(item) for item in transaction] for transaction in transactions]  # Convert all items to strings\n",
    "\n",
    "te_ary = te.fit(transactions).transform(transactions)\n",
    "df_encoded = pd.DataFrame(te_ary, columns=te.columns_)\n",
    "\n",
    "# Check encoded data\n",
    "df_encoded.head()"
   ]
  }
 ],
 "metadata": {
  "language_info": {
   "name": "python"
  }
 },
 "nbformat": 4,
 "nbformat_minor": 5
}
